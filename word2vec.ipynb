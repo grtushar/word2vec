{
  "nbformat": 4,
  "nbformat_minor": 0,
  "metadata": {
    "colab": {
      "name": "word2vec.ipynb",
      "provenance": [],
      "authorship_tag": "ABX9TyPkBjpcuPVlCk0UKRIaMfqF",
      "include_colab_link": true
    },
    "kernelspec": {
      "name": "python3",
      "display_name": "Python 3"
    },
    "language_info": {
      "name": "python"
    }
  },
  "cells": [
    {
      "cell_type": "markdown",
      "metadata": {
        "id": "view-in-github",
        "colab_type": "text"
      },
      "source": [
        "<a href=\"https://colab.research.google.com/github/grtushar/word2vec/blob/main/word2vec.ipynb\" target=\"_parent\"><img src=\"https://colab.research.google.com/assets/colab-badge.svg\" alt=\"Open In Colab\"/></a>"
      ]
    },
    {
      "cell_type": "markdown",
      "metadata": {
        "id": "ZwGIiqL1QJnW"
      },
      "source": [
        "# Imports"
      ]
    },
    {
      "cell_type": "code",
      "metadata": {
        "id": "8DVZVqnq6cgJ",
        "colab": {
          "base_uri": "https://localhost:8080/"
        },
        "outputId": "3a7d0c3c-b4b1-4e5a-b651-a90840916dd6"
      },
      "source": [
        "import numpy as np\n",
        "import re\n",
        "import string\n",
        "import nltk\n",
        "nltk.download('stopwords')\n",
        "from nltk.corpus import stopwords \n",
        "\n",
        "import tensorflow as tf\n",
        "\n",
        "from keras.models import Sequential\n",
        "from keras.layers import Dense, Activation\n",
        "\n",
        "from keras.preprocessing.text import Tokenizer\n",
        "from numpy.lib.function_base import vectorize"
      ],
      "execution_count": 1,
      "outputs": [
        {
          "output_type": "stream",
          "name": "stdout",
          "text": [
            "[nltk_data] Downloading package stopwords to /root/nltk_data...\n",
            "[nltk_data]   Unzipping corpora/stopwords.zip.\n"
          ]
        }
      ]
    },
    {
      "cell_type": "markdown",
      "metadata": {
        "id": "VChYHZq1XZUQ"
      },
      "source": [
        "# Cleaning Special Characters and Removing Punctuations"
      ]
    },
    {
      "cell_type": "code",
      "metadata": {
        "id": "SC9pVDCjDDXw"
      },
      "source": [
        "# Some preprocesssing that will be common to all the text classification methods you will see.\n",
        "\n",
        "puncts = [',', '.', '\"', ':', ')', '(', '-', '!', '?', '|', ';', \"'\", '$', '&', '/', '[', ']', '>', '%', '=', '#', '*', '+', '\\\\', '•',  '~', '@', '£',\n",
        " '·', '_', '{', '}', '©', '^', '®', '`',  '<', '→', '°', '€', '™', '›',  '♥', '←', '×', '§', '″', '′', 'Â', '█', '½', 'à', '…',\n",
        " '“', '★', '”', '–', '●', 'â', '►', '−', '¢', '²', '¬', '░', '¶', '↑', '±', '¿', '▾', '═', '¦', '║', '―', '¥', '▓', '—', '‹', '─',\n",
        " '▒', '：', '¼', '⊕', '▼', '▪', '†', '■', '’', '▀', '¨', '▄', '♫', '☆', 'é', '¯', '♦', '¤', '▲', 'è', '¸', '¾', 'Ã', '⋅', '‘', '∞',\n",
        " '∙', '）', '↓', '、', '│', '（', '»', '，', '♪', '╩', '╚', '³', '・', '╦', '╣', '╔', '╗', '▬', '❤', 'ï', 'Ø', '¹', '≤', '‡', '√', ]\n",
        "\n",
        "def clean_text(x):\n",
        "    x = str(x)\n",
        "    for punct in puncts:\n",
        "        if punct in x:\n",
        "            x = x.replace(punct, f' {punct} ')\n",
        "    return x"
      ],
      "execution_count": 2,
      "outputs": []
    },
    {
      "cell_type": "markdown",
      "metadata": {
        "id": "BeM2-W6uXtJ3"
      },
      "source": [
        "# Cleaning Numbers"
      ]
    },
    {
      "cell_type": "code",
      "metadata": {
        "id": "5HWRYqi_Xxqr"
      },
      "source": [
        "def clean_numbers(x):\n",
        "    if bool(re.search(r'\\d', x)):\n",
        "        x = re.sub('[0-9]{5,}', '#####', x)\n",
        "        x = re.sub('[0-9]{4}', '####', x)\n",
        "        x = re.sub('[0-9]{3}', '###', x)\n",
        "        x = re.sub('[0-9]{2}', '##', x)\n",
        "    return x"
      ],
      "execution_count": 3,
      "outputs": []
    },
    {
      "cell_type": "markdown",
      "metadata": {
        "id": "bP8FvrV5HVLH"
      },
      "source": [
        "# Removing Contractions"
      ]
    },
    {
      "cell_type": "code",
      "metadata": {
        "id": "0apuMb-pGwzR"
      },
      "source": [
        "contraction_dict = {\"ain't\": \"is not\", \"aren't\": \"are not\",\"can't\": \"cannot\", \"'cause\": \"because\", \"could've\": \"could have\", \"couldn't\": \"could not\", \"didn't\": \"did not\",  \"doesn't\": \"does not\", \"don't\": \"do not\", \"hadn't\": \"had not\", \"hasn't\": \"has not\", \"haven't\": \"have not\", \"he'd\": \"he would\",\"he'll\": \"he will\", \"he's\": \"he is\", \"how'd\": \"how did\", \"how'd'y\": \"how do you\", \"how'll\": \"how will\", \"how's\": \"how is\",  \"I'd\": \"I would\", \"I'd've\": \"I would have\", \"I'll\": \"I will\", \"I'll've\": \"I will have\",\"I'm\": \"I am\", \"I've\": \"I have\", \"i'd\": \"i would\", \"i'd've\": \"i would have\", \"i'll\": \"i will\",  \"i'll've\": \"i will have\",\"i'm\": \"i am\", \"i've\": \"i have\", \"isn't\": \"is not\", \"it'd\": \"it would\", \"it'd've\": \"it would have\", \"it'll\": \"it will\", \"it'll've\": \"it will have\",\"it's\": \"it is\", \"let's\": \"let us\", \"ma'am\": \"madam\", \"mayn't\": \"may not\", \"might've\": \"might have\",\"mightn't\": \"might not\",\"mightn't've\": \"might not have\", \"must've\": \"must have\", \"mustn't\": \"must not\", \"mustn't've\": \"must not have\", \"needn't\": \"need not\", \"needn't've\": \"need not have\",\"o'clock\": \"of the clock\", \"oughtn't\": \"ought not\", \"oughtn't've\": \"ought not have\", \"shan't\": \"shall not\", \"sha'n't\": \"shall not\", \"shan't've\": \"shall not have\", \"she'd\": \"she would\", \"she'd've\": \"she would have\", \"she'll\": \"she will\", \"she'll've\": \"she will have\", \"she's\": \"she is\", \"should've\": \"should have\", \"shouldn't\": \"should not\", \"shouldn't've\": \"should not have\", \"so've\": \"so have\",\"so's\": \"so as\", \"this's\": \"this is\",\"that'd\": \"that would\", \"that'd've\": \"that would have\", \"that's\": \"that is\", \"there'd\": \"there would\", \"there'd've\": \"there would have\", \"there's\": \"there is\", \"here's\": \"here is\",\"they'd\": \"they would\", \"they'd've\": \"they would have\", \"they'll\": \"they will\", \"they'll've\": \"they will have\", \"they're\": \"they are\", \"they've\": \"they have\", \"to've\": \"to have\", \"wasn't\": \"was not\", \"we'd\": \"we would\", \"we'd've\": \"we would have\", \"we'll\": \"we will\", \"we'll've\": \"we will have\", \"we're\": \"we are\", \"we've\": \"we have\", \"weren't\": \"were not\", \"what'll\": \"what will\", \"what'll've\": \"what will have\", \"what're\": \"what are\",  \"what's\": \"what is\", \"what've\": \"what have\", \"when's\": \"when is\", \"when've\": \"when have\", \"where'd\": \"where did\", \"where's\": \"where is\", \"where've\": \"where have\", \"who'll\": \"who will\", \"who'll've\": \"who will have\", \"who's\": \"who is\", \"who've\": \"who have\", \"why's\": \"why is\", \"why've\": \"why have\", \"will've\": \"will have\", \"won't\": \"will not\", \"won't've\": \"will not have\", \"would've\": \"would have\", \"wouldn't\": \"would not\", \"wouldn't've\": \"would not have\", \"y'all\": \"you all\", \"y'all'd\": \"you all would\",\"y'all'd've\": \"you all would have\",\"y'all're\": \"you all are\",\"y'all've\": \"you all have\",\"you'd\": \"you would\", \"you'd've\": \"you would have\", \"you'll\": \"you will\", \"you'll've\": \"you will have\", \"you're\": \"you are\", \"you've\": \"you have\"}\n",
        "\n",
        "def _get_contractions(contraction_dict):\n",
        "    contraction_re = re.compile('(%s)' % '|'.join(contraction_dict.keys()))\n",
        "    return contraction_dict, contraction_re\n",
        "\n",
        "contractions, contractions_re = _get_contractions(contraction_dict)\n",
        "\n",
        "def replace_contractions(text):\n",
        "    def replace(match):\n",
        "        return contractions[match.group(0)]\n",
        "    return contractions_re.sub(replace, text)"
      ],
      "execution_count": 4,
      "outputs": []
    },
    {
      "cell_type": "markdown",
      "metadata": {
        "id": "rrNUyZCLPumU"
      },
      "source": [
        "# Utility Functions"
      ]
    },
    {
      "cell_type": "code",
      "metadata": {
        "id": "hxt8Vfn8xPzv"
      },
      "source": [
        "# Sample Input:\n",
        "# Sample Output:\n",
        "def word_to_one_hot_vector(word_idx, vocab_size):\n",
        "  one_hot_vector = np.zeros(vocab_size)\n",
        "  one_hot_vector[word_idx] = 1\n",
        "  return one_hot_vector\n",
        "\n",
        "# Sample Input:\n",
        "# Sample Output:\n",
        "def extract_vacoab_info(text):\n",
        "  tokenizer = Tokenizer()\n",
        "  tokenizer.fit_on_texts([text])\n",
        "  return len(tokenizer.word_index), tokenizer.word_index, dict(map(reversed, tokenizer.word_index.items()))\n",
        "\n",
        "# Sample Input:\n",
        "# Sample Output:\n",
        "def split_sentence(corpus):\n",
        "    stop_words = set(stopwords.words('english'))    \n",
        "    training_data = []\n",
        "    sentences = corpus.split(\".\")\n",
        "    for i in range(len(sentences)):\n",
        "        sentences[i] = sentences[i].strip()\n",
        "        sentence = sentences[i].split()\n",
        "        x = [word.strip(string.punctuation) for word in sentence if word not in stop_words]\n",
        "        x = [word.lower() for word in x]\n",
        "        training_data.append(x)\n",
        "    return training_data\n",
        "\n",
        "# Sample Input:\n",
        "# Sample Output:\n",
        "def prepare_training_data(sentences, window_size, vocab, vocab_size):\n",
        "  training_data = []\n",
        "  for sentence in sentences:\n",
        "    sent_len = len(sentence)\n",
        "    for i, word in enumerate(sentence):\n",
        "      target_word = word_to_one_hot_vector(vocab[sentence[i]] - 1, vocab_size)\n",
        "      \n",
        "      word_context = []\n",
        "      for j in range(i - window_size, i + window_size+1):\n",
        "        if j != i and j <= sent_len-1 and j >= 0:\n",
        "          word_context.append(word_to_one_hot_vector(vocab[sentence[j]] - 1, vocab_size))\n",
        "      training_data.append([target_word, word_context])\n",
        "  return np.array(training_data)"
      ],
      "execution_count": 5,
      "outputs": []
    },
    {
      "cell_type": "markdown",
      "metadata": {
        "id": "d9vmYZO6PjoA"
      },
      "source": [
        "# CBOW"
      ]
    },
    {
      "cell_type": "code",
      "metadata": {
        "id": "Qq7dDi6NMpWS"
      },
      "source": [
        "class word2Vec:\n",
        "  def __init__(self, window_size, vocab, vocab_size, idx2word, embedding_dim, word_context, target_word, model):\n",
        "    self.window_size = window_size\n",
        "    self.vocab = vocab\n",
        "    self.vocab_size = vocab_size\n",
        "    self.idx2word = idx2word\n",
        "    self.embedding_dim = embedding_dim\n",
        "    self.optimizer = tf.optimizers.SGD(learning_rate=0.1)\n",
        "    self.alpha = 0.1\n",
        "    self.model = model\n",
        "    self.__set_var_depending_on_model(word_context, target_word);\n",
        "\n",
        "  def __set_var_depending_on_model(self, word_context, target_word):\n",
        "    if(self.__is_cbow()):\n",
        "      self.X_train = word_context\n",
        "      self.y_train = target_word\n",
        "    else:\n",
        "      self.X_train = target_word\n",
        "      self.y_train = word_context\n",
        "\n",
        "  def __is_cbow(self):\n",
        "    return self.model == 'CBOW'\n",
        "\n",
        "  def train(self, epochs):\n",
        "    self.W1 = tf.Variable(tf.random.normal([self.vocab_size, self.embedding_dim]))\n",
        "    self.b1 = tf.Variable(tf.random.normal([self.embedding_dim])) #bias\n",
        "    self.W2 = tf.Variable(tf.random.normal([self.embedding_dim, self.vocab_size]))\n",
        "    self.b2 = tf.Variable(tf.random.normal([self.vocab_size]))\n",
        "\n",
        "    for _ in range(epochs):\n",
        "      with tf.GradientTape() as t:\n",
        "        hidden_layer = tf.add(tf.matmul(self.X_train,self.W1),self.b1)\n",
        "        output_layer = tf.nn.softmax(tf.add( tf.matmul(hidden_layer, self.W2), self.b2))\n",
        "        cross_entropy_loss = tf.reduce_mean(-tf.math.reduce_sum(self.y_train * tf.math.log(output_layer), axis=[1]))\n",
        "      grads = t.gradient(cross_entropy_loss, [self.W1, self.b1, self.W2, self.b2])\n",
        "      self.optimizer.apply_gradients(zip(grads,[self.W1, self.b1, self.W2, self.b2]))\n",
        "      if(_ % 1000 == 0):\n",
        "        print(cross_entropy_loss)\n",
        "\n",
        "  def train_using_numpy(self, epochs):\n",
        "    self.W1 = np.random.uniform(-0.8, 0.8, (self.vocab_size, self.embedding_dim))\n",
        "    self.W2 = np.random.uniform(-0.8, 0.8, (self.embedding_dim, self.vocab_size))\n",
        "    #self.b1 = np.random.uniform(-0.8, 0.8, self.embedding_dim) #np.zeros(self.embedding_dim)\n",
        "    #self.b2 = np.random.uniform(-0.8, 0.8, self.vocab_size) #np.zeros(self.vocab_size)\n",
        "\n",
        "    if(self.__is_cbow()):\n",
        "      self.__train_CBOW_model(epochs)\n",
        "    else:\n",
        "      self.__train_skip_gram_model(epochs)\n",
        "\n",
        "  def __train_CBOW_model(self, epochs):\n",
        "    for i in range(0, epochs):\n",
        "        self.loss = 0\n",
        "\n",
        "        for j in range(0, self.X_train.shape[0]):\n",
        "\n",
        "            x = np.mean(self.X_train[j], axis=0)\n",
        "\n",
        "            y_hat, z1, z2 = self.forward_pass(x)\n",
        "\n",
        "            EI = np.subtract(y_hat, self.y_train[j])\n",
        "\n",
        "            self.backprop(EI, z1, x)\n",
        "            \n",
        "            self.loss += -float(z2[self.y_train[j] == 1]) + np.log(np.sum(np.exp(z2)))\n",
        "            # self.loss += self.calculate_loss(y_hat, self.y_train[j])\n",
        "\n",
        "        if(i % 1000 == 0):\n",
        "          print('EPOCH:',i, 'LOSS:', self.loss)\n",
        "    pass\n",
        "\n",
        "  def __train_skip_gram_model(self, epochs):\n",
        "    for i in range(0, epochs):\n",
        "        self.loss = 0\n",
        "\n",
        "        for j in range(0, self.X_train.shape[0]):\n",
        "            x = self.X_train[j]\n",
        "\n",
        "            y_hat, z1, z2 = self.forward_pass(x)\n",
        "\n",
        "            EI = np.array([-label + y_hat.T for label in self.y_train[j]])\n",
        "\n",
        "            self.backprop(EI, z1, x)\n",
        "            \n",
        "            self.loss += -np.sum([z2[label == 1] for label in self.y_train[j]]) + len(self.y_train[j]) * np.log(np.sum(np.exp(z2)))\n",
        "            # self.loss += self.calculate_loss(y_hat, self.y_train[j])\n",
        "\n",
        "        if(i % 1000 == 0):\n",
        "          print('EPOCH:',i, 'LOSS:', self.loss)\n",
        "    pass\n",
        "\n",
        "  def calculate_loss(self, y_hat, y):\n",
        "    # Cross Entropy Loss\n",
        "    loss = -np.sum(y * np.log(y_hat))\n",
        "    return loss\n",
        "\n",
        "  # FORWARD PASS\n",
        "  def forward_pass(self, x):\n",
        "      z1 = np.dot(self.W1.T, x) # + self.b1\n",
        "      z2 = np.dot(self.W2.T, z1) # + self.b2\n",
        "      y_hat = self.softmax(z2)\n",
        "      return y_hat, z1, z2\n",
        "\n",
        "  # SOFTMAX ACTIVATION FUNCTION\n",
        "  def softmax(self, x):\n",
        "      e_x = np.exp(x - np.max(x))\n",
        "      return e_x / e_x.sum(axis=0)\n",
        "\n",
        "  # BACKPROPAGATION\n",
        "  def backprop(self, e, h, x):\n",
        "      if(self.__is_cbow()):\n",
        "        dl_dw2 = np.outer(h, e)  \n",
        "        dl_dw1 = np.outer(x, np.dot(self.W2, e.T))\n",
        "      else:\n",
        "        dl_dw2 = np.outer(h, np.sum(e, axis=0))\n",
        "        dl_dw1 = np.outer(x, np.dot(self.W2, np.sum(e, axis=0)))\n",
        "\n",
        "      # UPDATE WEIGHTS\n",
        "      self.W1 = self.W1 - (self.alpha * dl_dw1)\n",
        "      self.W2 = self.W2 - (self.alpha * dl_dw2)\n",
        "      pass\n",
        "\n",
        "  def get_vector_from_word(self, word):\n",
        "    return (self.W1)[self.vocab[word] - 1]\n",
        "\n",
        "  def vectorized(self, word_idx):\n",
        "    return (self.W1)[word_idx]\n",
        "\n",
        "  # calculate word1 + word2 - word3\n",
        "  def check_subtract_prop(self, word1, word2, word3):\n",
        "    vec1 = self.vectorized(self.vocab[word1] - 1)\n",
        "    vec2 = self.vectorized(self.vocab[word2] - 1)\n",
        "    vec3 = self.vectorized(self.vocab[word3] - 1)\n",
        "\n",
        "    res = vec1 + vec2 - vec3\n",
        "    closest_word_idx = -1\n",
        "    mn = 99999999\n",
        "    for i in range(self.vocab_size):\n",
        "      # ignore the words sent to this function\n",
        "      if(i == self.vocab[word1] - 1 or i == self.vocab[word2] - 1 or i == self.vocab[word3] - 1 ):\n",
        "        continue\n",
        "\n",
        "      dist = np.linalg.norm(res - self.vectorized(i))\n",
        "      if(mn > dist):\n",
        "        mn = dist\n",
        "        closest_word_idx = i\n",
        "    closest_word_idx += 1\n",
        "\n",
        "    return self.idx2word[closest_word_idx]\n",
        "\n",
        "  def word_with_closest_distance(self, word):\n",
        "    idx = self.vocab[word] - 1\n",
        "    vec = self.vectorized(idx)\n",
        "\n",
        "    closest_word_idx = -1\n",
        "    mn = 99999999\n",
        "    for i in range(self.vocab_size):\n",
        "      if(i == idx):\n",
        "        continue\n",
        "      dist = np.linalg.norm(vec - self.vectorized(i))\n",
        "      # print(vec)\n",
        "      # print('-----------')\n",
        "      # print(self.vectorized(i))\n",
        "      # print('dist: ')\n",
        "      # print(dist)\n",
        "      if(mn > dist):\n",
        "        mn = dist\n",
        "        closest_word_idx = i\n",
        "    closest_word_idx += 1\n",
        "\n",
        "    # print(self.vectorized(closest_word_idx))\n",
        "\n",
        "    # print('found it!')\n",
        "    return self.idx2word[closest_word_idx]"
      ],
      "execution_count": 6,
      "outputs": []
    },
    {
      "cell_type": "markdown",
      "metadata": {
        "id": "gXlSJtfnQPju"
      },
      "source": [
        "# Prepare"
      ]
    },
    {
      "cell_type": "code",
      "metadata": {
        "colab": {
          "base_uri": "https://localhost:8080/"
        },
        "id": "yFHf6ifvGzdO",
        "outputId": "4302252f-2386-4a9f-beb9-d2d4afe559ac"
      },
      "source": [
        "window_size = 3\n",
        "embedding_dim = 5\n",
        "epochs = 10000\n",
        "\n",
        "# corpus = 'The quick brown fox jumped over the lazy dog. The lazy dog got frightened'\n",
        "corpus = 'Dhaka is the capital of Bangladesh. Delhi is the capital of India. Paris is the capital of France.'\n",
        "# print(\"Raw corpus: \", corpus)\n",
        "\n",
        "corpus = clean_text(corpus)\n",
        "# print(\"Corpus after cleaning: \", corpus)\n",
        "\n",
        "corpus = clean_numbers(corpus)\n",
        "# print(\"Corpus after cleaning numbers: \", corpus)\n",
        "\n",
        "corpus = replace_contractions(corpus)\n",
        "# print(\"Corpus after replacing contradictions: \", corpus)\n",
        "\n",
        "\n",
        "sentences = split_sentence(corpus)\n",
        "# print(sentences)\n",
        "\n",
        "vocab_size, vocab, idx2word = extract_vacoab_info(corpus)\n",
        "# print(\"Vocabulary size: \", vocab_size)\n",
        "# print(\"Vocabulary\", vocab)\n",
        "# print(\"Index to word dict\", idx2word)\n",
        "\n",
        "training_data = prepare_training_data(sentences, window_size, vocab, vocab_size)\n",
        "\n",
        "x_train = []\n",
        "y_train = []\n",
        "for y, x in training_data:\n",
        "  x_train.append(x)\n",
        "  y_train.append(y)\n",
        "\n",
        "x_train = np.asarray(x_train, dtype='float32')\n",
        "y_train = np.asarray(y_train, dtype='float32')\n",
        "\n",
        "# print(x_train)\n",
        "# print(y_train)\n",
        "\n",
        "w2v_cbow = word2Vec(window_size=window_size, vocab = vocab, vocab_size=vocab_size, idx2word=idx2word, embedding_dim=embedding_dim, word_context=x_train, target_word=y_train, model='CBOW')\n",
        "w2v_skip_gram = word2Vec(window_size=window_size, vocab = vocab, vocab_size=vocab_size, idx2word=idx2word, embedding_dim=embedding_dim, word_context=x_train, target_word=y_train, model='skip_gram')"
      ],
      "execution_count": 7,
      "outputs": [
        {
          "output_type": "stream",
          "name": "stderr",
          "text": [
            "/usr/local/lib/python3.7/dist-packages/ipykernel_launcher.py:43: VisibleDeprecationWarning: Creating an ndarray from ragged nested sequences (which is a list-or-tuple of lists-or-tuples-or ndarrays with different lengths or shapes) is deprecated. If you meant to do this, you must specify 'dtype=object' when creating the ndarray\n"
          ]
        }
      ]
    },
    {
      "cell_type": "markdown",
      "metadata": {
        "id": "RL7sY5WQwsus"
      },
      "source": [
        "# Train"
      ]
    },
    {
      "cell_type": "code",
      "metadata": {
        "colab": {
          "base_uri": "https://localhost:8080/"
        },
        "id": "cWTuhQaFwxIX",
        "outputId": "63dd2c14-926a-4d61-f280-cac0d41f2a01"
      },
      "source": [
        "# w2v.train(epochs=epochs)\n",
        "# # print('-----------W1-------------')\n",
        "# # print(w2v.W1)\n",
        "# # print('-----------b1-------------')\n",
        "# # print(w2v.b1)\n",
        "\n",
        "# print(w2v.check_subtract_prop('bangladesh', 'dhaka', 'delhi'))\n",
        "# # print(w2v.vectorized(6))\n",
        "# print(w2v.word_with_closest_distance('dhaka'))\n",
        "# print(w2v.word_with_closest_distance('delhi'))\n",
        "\n",
        "import time\n",
        "start = time.process_time()  \n",
        "w2v_cbow.train_using_numpy(epochs=epochs)\n",
        "print('CBOW training time: ', time.process_time() - start)\n",
        "\n",
        "start = time.process_time()  \n",
        "w2v_skip_gram.train_using_numpy(epochs=epochs)\n",
        "print('Skip-Gram training time: ', time.process_time() - start)\n",
        "# print('-----------W1-------------')\n",
        "# print(w2v.W1)\n",
        "# print('-----------b1-------------')\n",
        "# print(w2v.b1)\n",
        "\n",
        "# print('vector of dhaka')\n",
        "# print(w2v.get_vector_from_word('dhaka'))\n",
        "# print('vector of delhi')\n",
        "# print(w2v.get_vector_from_word('delhi'))"
      ],
      "execution_count": 8,
      "outputs": [
        {
          "output_type": "stream",
          "name": "stdout",
          "text": [
            "EPOCH: 0 LOSS: 21.82748135816655\n",
            "EPOCH: 1000 LOSS: 0.013631821807864597\n",
            "EPOCH: 2000 LOSS: 0.005772910607614534\n",
            "EPOCH: 3000 LOSS: 0.0035587984077452006\n",
            "EPOCH: 4000 LOSS: 0.002539841457354086\n",
            "EPOCH: 5000 LOSS: 0.0019604300802882335\n",
            "EPOCH: 6000 LOSS: 0.0015889822327270764\n",
            "EPOCH: 7000 LOSS: 0.0013316373489420386\n",
            "EPOCH: 8000 LOSS: 0.0011433683776154169\n",
            "EPOCH: 9000 LOSS: 0.00099996411044323\n",
            "CBOW training time:  6.3873874530000005\n",
            "EPOCH: 0 LOSS: 43.817929355988305\n",
            "EPOCH: 1000 LOSS: 20.317831026750653\n",
            "EPOCH: 2000 LOSS: 19.861245605419626\n",
            "EPOCH: 3000 LOSS: 19.51617217621329\n",
            "EPOCH: 4000 LOSS: 19.771660611677596\n",
            "EPOCH: 5000 LOSS: 19.718567842442482\n",
            "EPOCH: 6000 LOSS: 19.579488286357957\n",
            "EPOCH: 7000 LOSS: 19.577769068640407\n",
            "EPOCH: 8000 LOSS: 19.663723498458978\n",
            "EPOCH: 9000 LOSS: 19.629983124093243\n",
            "Skip-Gram training time:  8.967150461\n"
          ]
        }
      ]
    },
    {
      "cell_type": "markdown",
      "metadata": {
        "id": "zb1le_rOQVmi"
      },
      "source": [
        "# Test"
      ]
    },
    {
      "cell_type": "code",
      "metadata": {
        "colab": {
          "base_uri": "https://localhost:8080/"
        },
        "id": "UGNsh5pn8inM",
        "outputId": "b1232a2d-ffc3-4b26-d489-e6f487461243"
      },
      "source": [
        "print('CBOW Results:')\n",
        "print('bangladesh - dhaka + france = ', w2v_cbow.check_subtract_prop('bangladesh', 'dhaka', 'paris'))\n",
        "print('bangladesh - dhaka + france = ', w2v_cbow.check_subtract_prop('bangladesh', 'dhaka', 'delhi'))\n",
        "print('bangladesh - dhaka + france = ', w2v_cbow.check_subtract_prop('paris', 'france', 'dhaka'))\n",
        "print('bangladesh - dhaka + france = ', w2v_cbow.check_subtract_prop('france', 'paris', 'bangladesh'))\n",
        "# print(w2v_cbow.W1)\n",
        "print('dhaka -> ', w2v_cbow.word_with_closest_distance('dhaka'))\n",
        "print('delhi -> ', w2v_cbow.word_with_closest_distance('delhi'))\n",
        "print('paris -> ', w2v_cbow.word_with_closest_distance('paris'))\n",
        "print('---------------------------------')\n",
        "\n",
        "print('Skip Gram Results:')\n",
        "print('bangladesh - dhaka + france = ', w2v_skip_gram.check_subtract_prop('bangladesh', 'dhaka', 'france'))\n",
        "print('bangladesh - dhaka + paris = ', w2v_skip_gram.check_subtract_prop('bangladesh', 'dhaka', 'paris'))\n",
        "print('bangladesh - dhaka + delhi = ', w2v_skip_gram.check_subtract_prop('bangladesh', 'dhaka', 'delhi'))\n",
        "print('paris - france + dhaka = ', w2v_skip_gram.check_subtract_prop('paris', 'france', 'dhaka'))\n",
        "print('france - paris + bangladesh = ', w2v_skip_gram.check_subtract_prop('france', 'paris', 'bangladesh'))\n",
        "# print(w2v_cbow.W1)\n",
        "print('dhaka -> ', w2v_skip_gram.word_with_closest_distance('dhaka'))\n",
        "print('delhi -> ', w2v_skip_gram.word_with_closest_distance('delhi'))\n",
        "print('paris -> ', w2v_skip_gram.word_with_closest_distance('paris'))\n",
        "# print(w2v_skip_gram.W1)"
      ],
      "execution_count": 13,
      "outputs": [
        {
          "output_type": "stream",
          "name": "stdout",
          "text": [
            "CBOW Results:\n",
            "bangladesh - dhaka + france =  the\n",
            "bangladesh - dhaka + france =  of\n",
            "bangladesh - dhaka + france =  delhi\n",
            "bangladesh - dhaka + france =  is\n",
            "dhaka ->  the\n",
            "delhi ->  the\n",
            "paris ->  of\n",
            "---------------------------------\n",
            "Skip Gram Results:\n",
            "bangladesh - dhaka + france =  paris\n",
            "bangladesh - dhaka + paris =  france\n",
            "bangladesh - dhaka + delhi =  india\n",
            "paris - france + dhaka =  bangladesh\n",
            "france - paris + bangladesh =  dhaka\n",
            "dhaka ->  paris\n",
            "delhi ->  dhaka\n",
            "paris ->  dhaka\n"
          ]
        }
      ]
    },
    {
      "cell_type": "code",
      "metadata": {
        "id": "WT9DQn2wXzMi"
      },
      "source": [
        ""
      ],
      "execution_count": 9,
      "outputs": []
    }
  ]
}