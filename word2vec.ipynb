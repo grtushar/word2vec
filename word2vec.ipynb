{
  "nbformat": 4,
  "nbformat_minor": 0,
  "metadata": {
    "colab": {
      "name": "word2vec.ipynb",
      "provenance": [],
      "authorship_tag": "ABX9TyPQQVhCcfoKUJEIRGyiMbQT",
      "include_colab_link": true
    },
    "kernelspec": {
      "name": "python3",
      "display_name": "Python 3"
    },
    "language_info": {
      "name": "python"
    }
  },
  "cells": [
    {
      "cell_type": "markdown",
      "metadata": {
        "id": "view-in-github",
        "colab_type": "text"
      },
      "source": [
        "<a href=\"https://colab.research.google.com/github/grtushar/word2vec/blob/main/word2vec.ipynb\" target=\"_parent\"><img src=\"https://colab.research.google.com/assets/colab-badge.svg\" alt=\"Open In Colab\"/></a>"
      ]
    },
    {
      "cell_type": "markdown",
      "metadata": {
        "id": "ZwGIiqL1QJnW"
      },
      "source": [
        "# Imports"
      ]
    },
    {
      "cell_type": "code",
      "metadata": {
        "id": "8DVZVqnq6cgJ",
        "colab": {
          "base_uri": "https://localhost:8080/"
        },
        "outputId": "34768f43-f1cd-407e-9229-ccd249b95660"
      },
      "source": [
        "import numpy as np\n",
        "import re\n",
        "import string\n",
        "import nltk\n",
        "import os\n",
        "import matplotlib.pyplot as plt\n",
        "\n",
        "nltk.download('stopwords')\n",
        "nltk.download('gutenberg')\n",
        "nltk.download('punkt')\n",
        "from nltk.corpus import stopwords \n",
        "\n",
        "import tensorflow as tf\n",
        "\n",
        "from keras.models import Sequential\n",
        "from keras.layers import Dense, Activation\n",
        "\n",
        "from keras.preprocessing.text import Tokenizer\n",
        "from numpy.lib.function_base import vectorize"
      ],
      "execution_count": 19,
      "outputs": [
        {
          "output_type": "stream",
          "name": "stdout",
          "text": [
            "[nltk_data] Downloading package stopwords to /root/nltk_data...\n",
            "[nltk_data]   Package stopwords is already up-to-date!\n",
            "[nltk_data] Downloading package gutenberg to /root/nltk_data...\n",
            "[nltk_data]   Package gutenberg is already up-to-date!\n",
            "[nltk_data] Downloading package punkt to /root/nltk_data...\n",
            "[nltk_data]   Package punkt is already up-to-date!\n"
          ]
        }
      ]
    },
    {
      "cell_type": "markdown",
      "metadata": {
        "id": "VChYHZq1XZUQ"
      },
      "source": [
        "# Cleaning Special Characters and Removing Punctuations"
      ]
    },
    {
      "cell_type": "code",
      "metadata": {
        "id": "SC9pVDCjDDXw"
      },
      "source": [
        "# Some preprocesssing that will be common to all the text classification methods you will see.\n",
        "\n",
        "puncts = [',', '.', '\"', ':', ')', '(', '-', '!', '?', '|', ';', \"'\", '$', '&', '/', '[', ']', '>', '%', '=', '#', '*', '+', '\\\\', '•',  '~', '@', '£',\n",
        " '·', '_', '{', '}', '©', '^', '®', '`',  '<', '→', '°', '€', '™', '›',  '♥', '←', '×', '§', '″', '′', 'Â', '█', '½', 'à', '…',\n",
        " '“', '★', '”', '–', '●', 'â', '►', '−', '¢', '²', '¬', '░', '¶', '↑', '±', '¿', '▾', '═', '¦', '║', '―', '¥', '▓', '—', '‹', '─',\n",
        " '▒', '：', '¼', '⊕', '▼', '▪', '†', '■', '’', '▀', '¨', '▄', '♫', '☆', 'é', '¯', '♦', '¤', '▲', 'è', '¸', '¾', 'Ã', '⋅', '‘', '∞',\n",
        " '∙', '）', '↓', '、', '│', '（', '»', '，', '♪', '╩', '╚', '³', '・', '╦', '╣', '╔', '╗', '▬', '❤', 'ï', 'Ø', '¹', '≤', '‡', '√', ]\n",
        "\n",
        "def clean_text(x):\n",
        "    x = str(x)\n",
        "    for punct in puncts:\n",
        "        if punct in x:\n",
        "            x = x.replace(punct, f' {punct} ')\n",
        "    return x"
      ],
      "execution_count": 20,
      "outputs": []
    },
    {
      "cell_type": "markdown",
      "metadata": {
        "id": "BeM2-W6uXtJ3"
      },
      "source": [
        "# Cleaning Numbers"
      ]
    },
    {
      "cell_type": "code",
      "metadata": {
        "id": "5HWRYqi_Xxqr"
      },
      "source": [
        "def clean_numbers(x):\n",
        "    if bool(re.search(r'\\d', x)):\n",
        "        x = re.sub('[0-9]{5,}', '#####', x)\n",
        "        x = re.sub('[0-9]{4}', '####', x)\n",
        "        x = re.sub('[0-9]{3}', '###', x)\n",
        "        x = re.sub('[0-9]{2}', '##', x)\n",
        "    return x"
      ],
      "execution_count": 21,
      "outputs": []
    },
    {
      "cell_type": "markdown",
      "metadata": {
        "id": "bP8FvrV5HVLH"
      },
      "source": [
        "# Removing Contractions"
      ]
    },
    {
      "cell_type": "code",
      "metadata": {
        "id": "0apuMb-pGwzR"
      },
      "source": [
        "contraction_dict = {\"ain't\": \"is not\", \"aren't\": \"are not\",\"can't\": \"cannot\", \"'cause\": \"because\", \"could've\": \"could have\", \"couldn't\": \"could not\", \"didn't\": \"did not\",  \"doesn't\": \"does not\", \"don't\": \"do not\", \"hadn't\": \"had not\", \"hasn't\": \"has not\", \"haven't\": \"have not\", \"he'd\": \"he would\",\"he'll\": \"he will\", \"he's\": \"he is\", \"how'd\": \"how did\", \"how'd'y\": \"how do you\", \"how'll\": \"how will\", \"how's\": \"how is\",  \"I'd\": \"I would\", \"I'd've\": \"I would have\", \"I'll\": \"I will\", \"I'll've\": \"I will have\",\"I'm\": \"I am\", \"I've\": \"I have\", \"i'd\": \"i would\", \"i'd've\": \"i would have\", \"i'll\": \"i will\",  \"i'll've\": \"i will have\",\"i'm\": \"i am\", \"i've\": \"i have\", \"isn't\": \"is not\", \"it'd\": \"it would\", \"it'd've\": \"it would have\", \"it'll\": \"it will\", \"it'll've\": \"it will have\",\"it's\": \"it is\", \"let's\": \"let us\", \"ma'am\": \"madam\", \"mayn't\": \"may not\", \"might've\": \"might have\",\"mightn't\": \"might not\",\"mightn't've\": \"might not have\", \"must've\": \"must have\", \"mustn't\": \"must not\", \"mustn't've\": \"must not have\", \"needn't\": \"need not\", \"needn't've\": \"need not have\",\"o'clock\": \"of the clock\", \"oughtn't\": \"ought not\", \"oughtn't've\": \"ought not have\", \"shan't\": \"shall not\", \"sha'n't\": \"shall not\", \"shan't've\": \"shall not have\", \"she'd\": \"she would\", \"she'd've\": \"she would have\", \"she'll\": \"she will\", \"she'll've\": \"she will have\", \"she's\": \"she is\", \"should've\": \"should have\", \"shouldn't\": \"should not\", \"shouldn't've\": \"should not have\", \"so've\": \"so have\",\"so's\": \"so as\", \"this's\": \"this is\",\"that'd\": \"that would\", \"that'd've\": \"that would have\", \"that's\": \"that is\", \"there'd\": \"there would\", \"there'd've\": \"there would have\", \"there's\": \"there is\", \"here's\": \"here is\",\"they'd\": \"they would\", \"they'd've\": \"they would have\", \"they'll\": \"they will\", \"they'll've\": \"they will have\", \"they're\": \"they are\", \"they've\": \"they have\", \"to've\": \"to have\", \"wasn't\": \"was not\", \"we'd\": \"we would\", \"we'd've\": \"we would have\", \"we'll\": \"we will\", \"we'll've\": \"we will have\", \"we're\": \"we are\", \"we've\": \"we have\", \"weren't\": \"were not\", \"what'll\": \"what will\", \"what'll've\": \"what will have\", \"what're\": \"what are\",  \"what's\": \"what is\", \"what've\": \"what have\", \"when's\": \"when is\", \"when've\": \"when have\", \"where'd\": \"where did\", \"where's\": \"where is\", \"where've\": \"where have\", \"who'll\": \"who will\", \"who'll've\": \"who will have\", \"who's\": \"who is\", \"who've\": \"who have\", \"why's\": \"why is\", \"why've\": \"why have\", \"will've\": \"will have\", \"won't\": \"will not\", \"won't've\": \"will not have\", \"would've\": \"would have\", \"wouldn't\": \"would not\", \"wouldn't've\": \"would not have\", \"y'all\": \"you all\", \"y'all'd\": \"you all would\",\"y'all'd've\": \"you all would have\",\"y'all're\": \"you all are\",\"y'all've\": \"you all have\",\"you'd\": \"you would\", \"you'd've\": \"you would have\", \"you'll\": \"you will\", \"you'll've\": \"you will have\", \"you're\": \"you are\", \"you've\": \"you have\"}\n",
        "\n",
        "def _get_contractions(contraction_dict):\n",
        "    contraction_re = re.compile('(%s)' % '|'.join(contraction_dict.keys()))\n",
        "    return contraction_dict, contraction_re\n",
        "\n",
        "contractions, contractions_re = _get_contractions(contraction_dict)\n",
        "\n",
        "def replace_contractions(text):\n",
        "    def replace(match):\n",
        "        return contractions[match.group(0)]\n",
        "    return contractions_re.sub(replace, text)"
      ],
      "execution_count": 22,
      "outputs": []
    },
    {
      "cell_type": "markdown",
      "metadata": {
        "id": "rrNUyZCLPumU"
      },
      "source": [
        "# Utility Functions"
      ]
    },
    {
      "cell_type": "code",
      "metadata": {
        "id": "hxt8Vfn8xPzv"
      },
      "source": [
        "def get_corpus():\n",
        "  corpus_dir = './data/RNN/'\n",
        "  corpus_text_file = os.path.join(corpus_dir, 'en.wikipedia.2010.100K.txt')\n",
        "\n",
        "  if not os.path.isfile( corpus_text_file ):\n",
        "    if not os.path.exists(corpus_dir):\n",
        "        os.makedirs(corpus_dir)\n",
        "\n",
        "    corpus_text_tar = 'eng_wikipedia_2010_100K.tar.gz'    \n",
        "    download_url = 'http://pcai056.informatik.uni-leipzig.de/downloads/corpora/'+corpus_text_tar\n",
        "\n",
        "    data_cache = './data/cache'\n",
        "    if not os.path.exists(data_cache):\n",
        "        os.makedirs(data_cache)\n",
        "    \n",
        "    # Fall-back url if too slow\n",
        "    #download_url= 'http://redcatlabs.com/downloads/deep-learning-workshop/notebooks/data/RNN/'+corpus_text_tar\n",
        "\n",
        "    import shutil, requests\n",
        "\n",
        "    # Get the download path from the web-service\n",
        "    #urllib.request.urlretrieve('http://wortschatz.uni-leipzig.de/download/service', corpus_text_tar)\n",
        "    # download_url = ...\n",
        "    \n",
        "    tarfilepath = os.path.join(data_cache, corpus_text_tar)\n",
        "    if not os.path.isfile( tarfilepath ):\n",
        "        response = requests.get(download_url, stream=True)\n",
        "        with open(tarfilepath, 'wb') as out_file:\n",
        "            shutil.copyfileobj(response.raw, out_file)\n",
        "    if os.path.isfile(tarfilepath):\n",
        "        import tarfile\n",
        "        #tarfile.open(tarfilepath, 'r:gz').extractall(corpus_dir)\n",
        "        tarfile.open(tarfilepath, 'r:gz').extract('eng_wikipedia_2010_100K-sentences.txt', corpus_dir)\n",
        "    shutil.move(os.path.join(corpus_dir, 'eng_wikipedia_2010_100K-sentences.txt'), corpus_text_file)\n",
        "    \n",
        "    # Get rid of tarfile source (the required text file itself will remain)\n",
        "    #os.unlink(tarfilepath)\n",
        "\n",
        "  print(\"Corpus available locally\")\n",
        "\n",
        "  while True:\n",
        "    corpus = ''\n",
        "    number_of_lines = 0\n",
        "    with open(corpus_text_file, encoding='utf-8') as f:\n",
        "      for line in f.readlines():\n",
        "          n,l = line.split('\\t')   # Strip of the initial numbers\n",
        "          corpus += l\n",
        "          number_of_lines += 1\n",
        "          if(number_of_lines == 10):\n",
        "            return corpus\n",
        "  \n",
        "  return ''\n",
        "\n",
        "# Sample Input:\n",
        "# Sample Output:\n",
        "def word_to_one_hot_vector(word_idx, vocab_size):\n",
        "  one_hot_vector = np.zeros(vocab_size)\n",
        "  one_hot_vector[word_idx] = 1\n",
        "  return one_hot_vector\n",
        "\n",
        "# Sample Input:\n",
        "# Sample Output:\n",
        "def extract_vacoab_info(text):\n",
        "  tokenizer = Tokenizer()\n",
        "  tokenizer.fit_on_texts([text])\n",
        "  return len(tokenizer.word_index), tokenizer.word_index, dict(map(reversed, tokenizer.word_index.items()))\n",
        "\n",
        "# Sample Input:\n",
        "# Sample Output:\n",
        "def split_sentence(corpus):\n",
        "    stop_words = set(stopwords.words('english'))    \n",
        "    training_data = []\n",
        "    sentences = corpus.split(\".\")\n",
        "    for i in range(len(sentences)):\n",
        "        sentences[i] = sentences[i].strip()\n",
        "        sentence = sentences[i].split()\n",
        "        x = [word.strip(string.punctuation) for word in sentence if word not in stop_words]\n",
        "        x = [word.lower() for word in x if word != '']\n",
        "        training_data.append(x)\n",
        "    return training_data\n",
        "\n",
        "# Sample Input:\n",
        "# Sample Output:\n",
        "def prepare_training_data(sentences, window_size, vocab, vocab_size):\n",
        "  training_data = []\n",
        "  for sentence in sentences:\n",
        "    sent_len = len(sentence)\n",
        "    for i, word in enumerate(sentence):\n",
        "      target_word = word_to_one_hot_vector(vocab[sentence[i]] - 1, vocab_size)\n",
        "      \n",
        "      word_context = []\n",
        "      for j in range(i - window_size, i + window_size+1):\n",
        "        if j != i and j <= sent_len-1 and j >= 0:\n",
        "          word_context.append(word_to_one_hot_vector(vocab[sentence[j]] - 1, vocab_size))\n",
        "      training_data.append([target_word, word_context])\n",
        "  return np.array(training_data)\n",
        "\n",
        "def plot_vectors(wordVectors=wordVectors):\n",
        "  visualizeWords = [\"the\", \"a\", \"that\", 'this', 'her', 'present', 'day', 'take', 'police', 'officers']\n",
        "  print(vocab)\n",
        "  visualizeIdx = [vocab[word] for word in visualizeWords]\n",
        "  visualizeVecs = wordVectors[visualizeIdx, :]\n",
        "  temp = (visualizeVecs - np.mean(visualizeVecs, axis=0))\n",
        "  covariance = 1.0 / len(visualizeIdx) * temp.T.dot(temp)\n",
        "  U,S,V = np.linalg.svd(covariance)\n",
        "  coord = temp.dot(U[:,0:2]) \n",
        "\n",
        "  for i in range(len(visualizeWords)):\n",
        "      plt.text(coord[i,0], coord[i,1], visualizeWords[i], bbox=dict(facecolor='green', alpha=0.1))\n",
        "      \n",
        "  plt.xlim((np.min(coord[:,0]), np.max(coord[:,0])))\n",
        "  plt.ylim((np.min(coord[:,1]), np.max(coord[:,1])))"
      ],
      "execution_count": 23,
      "outputs": []
    },
    {
      "cell_type": "markdown",
      "metadata": {
        "id": "d9vmYZO6PjoA"
      },
      "source": [
        "# CBOW and Skip-gram Implementaion"
      ]
    },
    {
      "cell_type": "code",
      "metadata": {
        "id": "Qq7dDi6NMpWS"
      },
      "source": [
        "class word2Vec:\n",
        "  def __init__(self, window_size, vocab, vocab_size, idx2word, embedding_dim, word_context, target_word, model):\n",
        "    self.window_size = window_size\n",
        "    self.vocab = vocab\n",
        "    self.vocab_size = vocab_size\n",
        "    self.idx2word = idx2word\n",
        "    self.embedding_dim = embedding_dim\n",
        "    self.optimizer = tf.optimizers.SGD(learning_rate=0.1)\n",
        "    self.alpha = 0.1\n",
        "    self.model = model\n",
        "    self.__set_var_depending_on_model(word_context, target_word);\n",
        "\n",
        "  def __set_var_depending_on_model(self, word_context, target_word):\n",
        "    if(self.__is_cbow()):\n",
        "      self.X_train = word_context\n",
        "      self.y_train = target_word\n",
        "    else:\n",
        "      self.X_train = target_word\n",
        "      self.y_train = word_context\n",
        "\n",
        "  def __is_cbow(self):\n",
        "    return self.model == 'CBOW'\n",
        "\n",
        "  def train(self, epochs):\n",
        "    self.W1 = tf.Variable(tf.random.normal([self.vocab_size, self.embedding_dim]))\n",
        "    self.b1 = tf.Variable(tf.random.normal([self.embedding_dim])) #bias\n",
        "    self.W2 = tf.Variable(tf.random.normal([self.embedding_dim, self.vocab_size]))\n",
        "    self.b2 = tf.Variable(tf.random.normal([self.vocab_size]))\n",
        "\n",
        "    for _ in range(epochs):\n",
        "      with tf.GradientTape() as t:\n",
        "        hidden_layer = tf.add(tf.matmul(self.X_train,self.W1),self.b1)\n",
        "        output_layer = tf.nn.softmax(tf.add( tf.matmul(hidden_layer, self.W2), self.b2))\n",
        "        cross_entropy_loss = tf.reduce_mean(-tf.math.reduce_sum(self.y_train * tf.math.log(output_layer), axis=[1]))\n",
        "      grads = t.gradient(cross_entropy_loss, [self.W1, self.b1, self.W2, self.b2])\n",
        "      self.optimizer.apply_gradients(zip(grads,[self.W1, self.b1, self.W2, self.b2]))\n",
        "      if(_ % 1000 == 0):\n",
        "        print(cross_entropy_loss)\n",
        "\n",
        "  def train_using_numpy(self, epochs):\n",
        "    self.W1 = np.random.uniform(-0.8, 0.8, (self.vocab_size, self.embedding_dim))\n",
        "    self.W2 = np.random.uniform(-0.8, 0.8, (self.embedding_dim, self.vocab_size))\n",
        "    #self.b1 = np.random.uniform(-0.8, 0.8, self.embedding_dim) #np.zeros(self.embedding_dim)\n",
        "    #self.b2 = np.random.uniform(-0.8, 0.8, self.vocab_size) #np.zeros(self.vocab_size)\n",
        "\n",
        "    if(self.__is_cbow()):\n",
        "      self.__train_CBOW_model(epochs)\n",
        "    else:\n",
        "      self.__train_skip_gram_model(epochs)\n",
        "\n",
        "  def __train_CBOW_model(self, epochs):\n",
        "    for i in range(0, epochs):\n",
        "        self.loss = 0\n",
        "\n",
        "        for j in range(0, self.X_train.shape[0]):\n",
        "\n",
        "            x = np.mean(self.X_train[j], axis=0)\n",
        "\n",
        "            y_hat, z1, z2 = self.forward_pass(x)\n",
        "\n",
        "            EI = np.subtract(y_hat, self.y_train[j])\n",
        "\n",
        "            self.backprop(EI, z1, x)\n",
        "            \n",
        "            self.loss += -float(z2[self.y_train[j] == 1]) + np.log(np.sum(np.exp(z2)))\n",
        "            # self.loss += self.calculate_loss(y_hat, self.y_train[j])\n",
        "\n",
        "        if(i % 1000 == 0):\n",
        "          print('EPOCH:',i, 'LOSS:', self.loss)\n",
        "    pass\n",
        "\n",
        "  def __train_skip_gram_model(self, epochs):\n",
        "    for i in range(0, epochs):\n",
        "        self.loss = 0\n",
        "\n",
        "        for j in range(0, self.X_train.shape[0]):\n",
        "            x = self.X_train[j]\n",
        "\n",
        "            y_hat, z1, z2 = self.forward_pass(x)\n",
        "\n",
        "            EI = np.array([-label + y_hat.T for label in self.y_train[j]])\n",
        "\n",
        "            self.backprop(EI, z1, x)\n",
        "            \n",
        "            self.loss += -np.sum([z2[label == 1] for label in self.y_train[j]]) + len(self.y_train[j]) * np.log(np.sum(np.exp(z2)))\n",
        "            # self.loss += self.calculate_loss(y_hat, self.y_train[j])\n",
        "\n",
        "        if(i % 1000 == 0):\n",
        "          print('EPOCH:',i, 'LOSS:', self.loss)\n",
        "    pass\n",
        "\n",
        "  def calculate_loss(self, y_hat, y):\n",
        "    # Cross Entropy Loss\n",
        "    loss = -np.sum(y * np.log(y_hat))\n",
        "    return loss\n",
        "\n",
        "  # FORWARD PASS\n",
        "  def forward_pass(self, x):\n",
        "      z1 = np.dot(self.W1.T, x) # + self.b1\n",
        "      z2 = np.dot(self.W2.T, z1) # + self.b2\n",
        "      y_hat = self.softmax(z2)\n",
        "      return y_hat, z1, z2\n",
        "\n",
        "  # SOFTMAX ACTIVATION FUNCTION\n",
        "  def softmax(self, x):\n",
        "      e_x = np.exp(x - np.max(x))\n",
        "      return e_x / e_x.sum(axis=0)\n",
        "\n",
        "  # BACKPROPAGATION\n",
        "  def backprop(self, e, h, x):\n",
        "      if(self.__is_cbow()):\n",
        "        dl_dw2 = np.outer(h, e)  \n",
        "        dl_dw1 = np.outer(x, np.dot(self.W2, e.T))\n",
        "      else:\n",
        "        dl_dw2 = np.outer(h, np.sum(e, axis=0))\n",
        "        dl_dw1 = np.outer(x, np.dot(self.W2, np.sum(e, axis=0)))\n",
        "\n",
        "      # UPDATE WEIGHTS\n",
        "      self.W1 = self.W1 - (self.alpha * dl_dw1)\n",
        "      self.W2 = self.W2 - (self.alpha * dl_dw2)\n",
        "      pass\n",
        "\n",
        "  def get_vector_from_word(self, word):\n",
        "    return (self.W1)[self.vocab[word] - 1]\n",
        "\n",
        "  def vectorized(self, word_idx):\n",
        "    return (self.W1)[word_idx]\n",
        "\n",
        "  # calculate word1 + word2 - word3\n",
        "  def check_subtract_prop(self, word1, word2, word3):\n",
        "    vec1 = self.vectorized(self.vocab[word1] - 1)\n",
        "    vec2 = self.vectorized(self.vocab[word2] - 1)\n",
        "    vec3 = self.vectorized(self.vocab[word3] - 1)\n",
        "\n",
        "    res = vec1 + vec2 - vec3\n",
        "    closest_word_idx = -1\n",
        "    mn = 99999999\n",
        "    for i in range(self.vocab_size):\n",
        "      # ignore the words sent to this function\n",
        "      if(i == self.vocab[word1] - 1 or i == self.vocab[word2] - 1 or i == self.vocab[word3] - 1 ):\n",
        "        continue\n",
        "\n",
        "      dist = np.linalg.norm(res - self.vectorized(i))\n",
        "      if(mn > dist):\n",
        "        mn = dist\n",
        "        closest_word_idx = i\n",
        "    closest_word_idx += 1\n",
        "\n",
        "    return self.idx2word[closest_word_idx]\n",
        "\n",
        "  def word_with_closest_distance(self, word):\n",
        "    idx = self.vocab[word] - 1\n",
        "    vec = self.vectorized(idx)\n",
        "\n",
        "    closest_word_idx = -1\n",
        "    mn = 99999999\n",
        "    for i in range(self.vocab_size):\n",
        "      if(i == idx):\n",
        "        continue\n",
        "      dist = np.linalg.norm(vec - self.vectorized(i))\n",
        "      if(mn > dist):\n",
        "        mn = dist\n",
        "        closest_word_idx = i\n",
        "    closest_word_idx += 1\n",
        "\n",
        "    return self.idx2word[closest_word_idx]"
      ],
      "execution_count": 24,
      "outputs": []
    },
    {
      "cell_type": "markdown",
      "metadata": {
        "id": "gXlSJtfnQPju"
      },
      "source": [
        "# Prepare"
      ]
    },
    {
      "cell_type": "code",
      "metadata": {
        "colab": {
          "base_uri": "https://localhost:8080/"
        },
        "id": "yFHf6ifvGzdO",
        "outputId": "e2df1def-fa6e-4103-fd11-0b691adc8046"
      },
      "source": [
        "window_size = 3\n",
        "embedding_dim = 5\n",
        "epochs = 10000\n",
        "\n",
        "corpus = get_corpus() \n",
        "# corpus = 'Dhaka is the capital of Bangladesh. Delhi is the capital of India. Paris is the capital of France.'\n",
        "# print(\"Raw corpus: \", corpus)\n",
        "\n",
        "corpus = clean_text(corpus)\n",
        "# print(\"Corpus after cleaning: \", corpus)\n",
        "\n",
        "corpus = clean_numbers(corpus)\n",
        "# print(\"Corpus after cleaning numbers: \", corpus)\n",
        "\n",
        "corpus = replace_contractions(corpus)\n",
        "# print(\"Corpus after replacing contradictions: \", corpus)\n",
        "\n",
        "\n",
        "sentences = split_sentence(corpus)\n",
        "print(sentences)\n",
        "\n",
        "vocab_size, vocab, idx2word = extract_vacoab_info(corpus)\n",
        "print(\"Vocabulary size: \", vocab_size)\n",
        "print(\"Vocabulary\", vocab)\n",
        "print(\"Index to word dict\", idx2word)\n",
        "\n",
        "training_data = prepare_training_data(sentences, window_size, vocab, vocab_size)\n",
        "\n",
        "x_train = []\n",
        "y_train = []\n",
        "for y, x in training_data:\n",
        "  x_train.append(x)\n",
        "  y_train.append(y)\n",
        "\n",
        "# print(len(x_train))\n",
        "# print(len(x_train[3]))\n",
        "# print(x_train[3])\n",
        "\n",
        "x_train = np.asarray(x_train)\n",
        "y_train = np.asarray(y_train)\n",
        "\n",
        "# print(x_train)\n",
        "# print(y_train)\n",
        "\n",
        "w2v_cbow = word2Vec(window_size=window_size, vocab = vocab, vocab_size=vocab_size, idx2word=idx2word, embedding_dim=embedding_dim, word_context=x_train, target_word=y_train, model='CBOW')\n",
        "w2v_skip_gram = word2Vec(window_size=window_size, vocab = vocab, vocab_size=vocab_size, idx2word=idx2word, embedding_dim=embedding_dim, word_context=x_train, target_word=y_train, model='skip_gram')"
      ],
      "execution_count": 25,
      "outputs": [
        {
          "output_type": "stream",
          "name": "stdout",
          "text": [
            "Corpus available locally\n",
            "[['showing', 'even', 'modern', 'warfare', 's', 's', 'dilapidated', 'fortifications', 'still', 'defensive', 'usefulness'], ['celtic', 'finally', 'cemented', 'permanent', 'home', 'would', 'see', 'huge', 'success', 'present', 'day'], ['he', 'gives', 'shuji', 'pills', 'saying', 'chise', 'needs', 'weapon', 'side', '’', 'take', 'later', 'gives', 'much', 'needed', 'maintenance'], ['in', 'areas', 'trio', 'called', 'trail', 'hand', 'called', 'pakki', 'round', 'pure', 'round'], ['more', 'police', 'officers', 'deployed', 'clashes', 'reported', 'candle', 'lit', 'vigil'], ['when', 'possible', 'often', 'follows', 'edges', 'various', 'vegetation', 'catch', 'prey', 'surprise'], ['versace', 'unique', 'among', 'italian', 'fashion', 'houses', 'due', 'frequent', 'use', 'celebrity', 'face', 'house', 'advertisements'], ['according', 'henri', 'zerner', 'work', 'freedom', 'immediacy', 'equivalent', 'renaissance', 'printmaking'], ['the', 'court', 'hearings', 'open', 'public'], ['after', 'completing', 'phd', 'stayed', 'berkeley', 'teach', 'year', 'left', 'clear', 'could', 'pursue', 'vision'], []]\n",
            "Vocabulary size:  137\n",
            "Vocabulary {'the': 1, 'to': 2, 'in': 3, 'and': 4, 'a': 5, 'that': 6, 'of': 7, 's': 8, 'he': 9, 'is': 10, \"'\": 11, 'his': 12, 'had': 13, 'this': 14, 'gives': 15, 'some': 16, 'her': 17, 'called': 18, 'round': 19, 'were': 20, 'no': 21, 'when': 22, 'it': 23, 'its': 24, 'for': 25, 'showing': 26, 'even': 27, 'modern': 28, 'warfare': 29, 'dilapidated': 30, 'fortifications': 31, 'still': 32, 'defensive': 33, 'usefulness': 34, 'celtic': 35, 'finally': 36, 'cemented': 37, 'permanent': 38, 'home': 39, 'would': 40, 'see': 41, 'huge': 42, 'success': 43, 'present': 44, 'day': 45, 'shuji': 46, 'pills': 47, 'saying': 48, 'chise': 49, 'needs': 50, 'them': 51, 'so': 52, 'weapon': 53, 'side': 54, 'won': 55, '’': 56, 't': 57, 'take': 58, 'over': 59, 'later': 60, 'much': 61, 'needed': 62, 'maintenance': 63, 'areas': 64, 'where': 65, 'trio': 66, 'trail': 67, 'hand': 68, 'pakki': 69, 'pure': 70, 'more': 71, 'than': 72, 'police': 73, 'officers': 74, 'deployed': 75, 'but': 76, 'clashes': 77, 'reported': 78, 'candle': 79, 'lit': 80, 'vigil': 81, 'possible': 82, 'often': 83, 'follows': 84, 'edges': 85, 'various': 86, 'vegetation': 87, 'catch': 88, 'prey': 89, 'by': 90, 'surprise': 91, 'versace': 92, 'unique': 93, 'among': 94, 'italian': 95, 'fashion': 96, 'houses': 97, 'due': 98, 'frequent': 99, 'use': 100, 'celebrity': 101, 'face': 102, 'house': 103, 'advertisements': 104, 'according': 105, 'henri': 106, 'zerner': 107, 'work': 108, 'has': 109, 'freedom': 110, 'immediacy': 111, 'have': 112, 'equivalent': 113, 'renaissance': 114, 'printmaking': 115, 'court': 116, 'hearings': 117, 'are': 118, 'open': 119, 'public': 120, 'after': 121, 'completing': 122, 'phd': 123, 'stayed': 124, 'on': 125, 'at': 126, 'berkeley': 127, 'teach': 128, 'year': 129, 'left': 130, 'was': 131, 'clear': 132, 'could': 133, 'not': 134, 'pursue': 135, 'vision': 136, 'there': 137}\n",
            "Index to word dict {1: 'the', 2: 'to', 3: 'in', 4: 'and', 5: 'a', 6: 'that', 7: 'of', 8: 's', 9: 'he', 10: 'is', 11: \"'\", 12: 'his', 13: 'had', 14: 'this', 15: 'gives', 16: 'some', 17: 'her', 18: 'called', 19: 'round', 20: 'were', 21: 'no', 22: 'when', 23: 'it', 24: 'its', 25: 'for', 26: 'showing', 27: 'even', 28: 'modern', 29: 'warfare', 30: 'dilapidated', 31: 'fortifications', 32: 'still', 33: 'defensive', 34: 'usefulness', 35: 'celtic', 36: 'finally', 37: 'cemented', 38: 'permanent', 39: 'home', 40: 'would', 41: 'see', 42: 'huge', 43: 'success', 44: 'present', 45: 'day', 46: 'shuji', 47: 'pills', 48: 'saying', 49: 'chise', 50: 'needs', 51: 'them', 52: 'so', 53: 'weapon', 54: 'side', 55: 'won', 56: '’', 57: 't', 58: 'take', 59: 'over', 60: 'later', 61: 'much', 62: 'needed', 63: 'maintenance', 64: 'areas', 65: 'where', 66: 'trio', 67: 'trail', 68: 'hand', 69: 'pakki', 70: 'pure', 71: 'more', 72: 'than', 73: 'police', 74: 'officers', 75: 'deployed', 76: 'but', 77: 'clashes', 78: 'reported', 79: 'candle', 80: 'lit', 81: 'vigil', 82: 'possible', 83: 'often', 84: 'follows', 85: 'edges', 86: 'various', 87: 'vegetation', 88: 'catch', 89: 'prey', 90: 'by', 91: 'surprise', 92: 'versace', 93: 'unique', 94: 'among', 95: 'italian', 96: 'fashion', 97: 'houses', 98: 'due', 99: 'frequent', 100: 'use', 101: 'celebrity', 102: 'face', 103: 'house', 104: 'advertisements', 105: 'according', 106: 'henri', 107: 'zerner', 108: 'work', 109: 'has', 110: 'freedom', 111: 'immediacy', 112: 'have', 113: 'equivalent', 114: 'renaissance', 115: 'printmaking', 116: 'court', 117: 'hearings', 118: 'are', 119: 'open', 120: 'public', 121: 'after', 122: 'completing', 123: 'phd', 124: 'stayed', 125: 'on', 126: 'at', 127: 'berkeley', 128: 'teach', 129: 'year', 130: 'left', 131: 'was', 132: 'clear', 133: 'could', 134: 'not', 135: 'pursue', 136: 'vision', 137: 'there'}\n"
          ]
        },
        {
          "output_type": "stream",
          "name": "stderr",
          "text": [
            "/usr/local/lib/python3.7/dist-packages/ipykernel_launcher.py:96: VisibleDeprecationWarning: Creating an ndarray from ragged nested sequences (which is a list-or-tuple of lists-or-tuples-or ndarrays with different lengths or shapes) is deprecated. If you meant to do this, you must specify 'dtype=object' when creating the ndarray\n",
            "/usr/local/lib/python3.7/dist-packages/numpy/core/_asarray.py:83: VisibleDeprecationWarning: Creating an ndarray from ragged nested sequences (which is a list-or-tuple of lists-or-tuples-or ndarrays with different lengths or shapes) is deprecated. If you meant to do this, you must specify 'dtype=object' when creating the ndarray\n",
            "  return array(a, dtype, copy=False, order=order)\n"
          ]
        }
      ]
    },
    {
      "cell_type": "markdown",
      "metadata": {
        "id": "RL7sY5WQwsus"
      },
      "source": [
        "# Train"
      ]
    },
    {
      "cell_type": "code",
      "metadata": {
        "colab": {
          "base_uri": "https://localhost:8080/"
        },
        "id": "cWTuhQaFwxIX",
        "outputId": "23e269eb-b153-44ce-a11b-7e936d2b32ae"
      },
      "source": [
        "# w2v.train(epochs=epochs)\n",
        "# # print('-----------W1-------------')\n",
        "# # print(w2v.W1)\n",
        "# # print('-----------b1-------------')\n",
        "# # print(w2v.b1)\n",
        "\n",
        "# print(w2v.check_subtract_prop('bangladesh', 'dhaka', 'delhi'))\n",
        "# # print(w2v.vectorized(6))\n",
        "# print(w2v.word_with_closest_distance('dhaka'))\n",
        "# print(w2v.word_with_closest_distance('delhi'))\n",
        "\n",
        "import time\n",
        "start = time.process_time()  \n",
        "w2v_cbow.train_using_numpy(epochs=epochs)\n",
        "print('CBOW training time: ', time.process_time() - start)\n",
        "\n",
        "start = time.process_time()  \n",
        "w2v_skip_gram.train_using_numpy(epochs=epochs)\n",
        "print('Skip-Gram training time: ', time.process_time() - start)\n",
        "# print('-----------W1-------------')\n",
        "# print(w2v.W1)\n",
        "# print('-----------b1-------------')\n",
        "# print(w2v.b1)\n",
        "\n",
        "# print('vector of dhaka')\n",
        "# print(w2v.get_vector_from_word('dhaka'))\n",
        "# print('vector of delhi')\n",
        "# print(w2v.get_vector_from_word('delhi'))"
      ],
      "execution_count": 26,
      "outputs": [
        {
          "output_type": "stream",
          "name": "stdout",
          "text": [
            "EPOCH: 0 LOSS: 526.3418448363464\n",
            "EPOCH: 1000 LOSS: 2.4199657962338783\n",
            "EPOCH: 2000 LOSS: 1.8917189020410827\n",
            "EPOCH: 3000 LOSS: 1.7350717128037338\n",
            "EPOCH: 4000 LOSS: 1.6588123364397216\n",
            "EPOCH: 5000 LOSS: 1.613166417727868\n",
            "EPOCH: 6000 LOSS: 1.5825196465739282\n",
            "EPOCH: 7000 LOSS: 1.5603707689693191\n",
            "EPOCH: 8000 LOSS: 1.5435221115454585\n",
            "EPOCH: 9000 LOSS: 1.5302152783129888\n",
            "CBOW training time:  106.01523225099999\n",
            "EPOCH: 0 LOSS: 2611.380014715372\n",
            "EPOCH: 1000 LOSS: 900.2532368443578\n",
            "EPOCH: 2000 LOSS: 890.0748733029251\n",
            "EPOCH: 3000 LOSS: 884.404156998295\n",
            "EPOCH: 4000 LOSS: 890.7518327180584\n",
            "EPOCH: 5000 LOSS: 889.3032163637497\n",
            "EPOCH: 6000 LOSS: 889.1091151340385\n",
            "EPOCH: 7000 LOSS: 884.0374618899765\n",
            "EPOCH: 8000 LOSS: 884.0140723242994\n",
            "EPOCH: 9000 LOSS: 879.8940682801234\n",
            "Skip-Gram training time:  142.071141512\n"
          ]
        }
      ]
    },
    {
      "cell_type": "markdown",
      "source": [
        "# Test"
      ],
      "metadata": {
        "id": "vVZTtLSDScAk"
      }
    },
    {
      "cell_type": "code",
      "source": [
        "plot_vectors(w2v_cbow.W1)"
      ],
      "metadata": {
        "id": "clhcpgN-SzPA",
        "colab": {
          "base_uri": "https://localhost:8080/",
          "height": 711
        },
        "outputId": "4f6d061f-2be5-4efe-abab-7b27fdf5df9b"
      },
      "execution_count": 27,
      "outputs": [
        {
          "output_type": "stream",
          "name": "stdout",
          "text": [
            "{'the': 1, 'to': 2, 'in': 3, 'and': 4, 'a': 5, 'that': 6, 'of': 7, 's': 8, 'he': 9, 'is': 10, \"'\": 11, 'his': 12, 'had': 13, 'this': 14, 'gives': 15, 'some': 16, 'her': 17, 'called': 18, 'round': 19, 'were': 20, 'no': 21, 'when': 22, 'it': 23, 'its': 24, 'for': 25, 'showing': 26, 'even': 27, 'modern': 28, 'warfare': 29, 'dilapidated': 30, 'fortifications': 31, 'still': 32, 'defensive': 33, 'usefulness': 34, 'celtic': 35, 'finally': 36, 'cemented': 37, 'permanent': 38, 'home': 39, 'would': 40, 'see': 41, 'huge': 42, 'success': 43, 'present': 44, 'day': 45, 'shuji': 46, 'pills': 47, 'saying': 48, 'chise': 49, 'needs': 50, 'them': 51, 'so': 52, 'weapon': 53, 'side': 54, 'won': 55, '’': 56, 't': 57, 'take': 58, 'over': 59, 'later': 60, 'much': 61, 'needed': 62, 'maintenance': 63, 'areas': 64, 'where': 65, 'trio': 66, 'trail': 67, 'hand': 68, 'pakki': 69, 'pure': 70, 'more': 71, 'than': 72, 'police': 73, 'officers': 74, 'deployed': 75, 'but': 76, 'clashes': 77, 'reported': 78, 'candle': 79, 'lit': 80, 'vigil': 81, 'possible': 82, 'often': 83, 'follows': 84, 'edges': 85, 'various': 86, 'vegetation': 87, 'catch': 88, 'prey': 89, 'by': 90, 'surprise': 91, 'versace': 92, 'unique': 93, 'among': 94, 'italian': 95, 'fashion': 96, 'houses': 97, 'due': 98, 'frequent': 99, 'use': 100, 'celebrity': 101, 'face': 102, 'house': 103, 'advertisements': 104, 'according': 105, 'henri': 106, 'zerner': 107, 'work': 108, 'has': 109, 'freedom': 110, 'immediacy': 111, 'have': 112, 'equivalent': 113, 'renaissance': 114, 'printmaking': 115, 'court': 116, 'hearings': 117, 'are': 118, 'open': 119, 'public': 120, 'after': 121, 'completing': 122, 'phd': 123, 'stayed': 124, 'on': 125, 'at': 126, 'berkeley': 127, 'teach': 128, 'year': 129, 'left': 130, 'was': 131, 'clear': 132, 'could': 133, 'not': 134, 'pursue': 135, 'vision': 136, 'there': 137}\n",
            "{'the': 1, 'to': 2, 'in': 3, 'and': 4, 'a': 5, 'that': 6, 'of': 7, 's': 8, 'he': 9, 'is': 10, \"'\": 11, 'his': 12, 'had': 13, 'this': 14, 'gives': 15, 'some': 16, 'her': 17, 'called': 18, 'round': 19, 'were': 20, 'no': 21, 'when': 22, 'it': 23, 'its': 24, 'for': 25, 'showing': 26, 'even': 27, 'modern': 28, 'warfare': 29, 'dilapidated': 30, 'fortifications': 31, 'still': 32, 'defensive': 33, 'usefulness': 34, 'celtic': 35, 'finally': 36, 'cemented': 37, 'permanent': 38, 'home': 39, 'would': 40, 'see': 41, 'huge': 42, 'success': 43, 'present': 44, 'day': 45, 'shuji': 46, 'pills': 47, 'saying': 48, 'chise': 49, 'needs': 50, 'them': 51, 'so': 52, 'weapon': 53, 'side': 54, 'won': 55, '’': 56, 't': 57, 'take': 58, 'over': 59, 'later': 60, 'much': 61, 'needed': 62, 'maintenance': 63, 'areas': 64, 'where': 65, 'trio': 66, 'trail': 67, 'hand': 68, 'pakki': 69, 'pure': 70, 'more': 71, 'than': 72, 'police': 73, 'officers': 74, 'deployed': 75, 'but': 76, 'clashes': 77, 'reported': 78, 'candle': 79, 'lit': 80, 'vigil': 81, 'possible': 82, 'often': 83, 'follows': 84, 'edges': 85, 'various': 86, 'vegetation': 87, 'catch': 88, 'prey': 89, 'by': 90, 'surprise': 91, 'versace': 92, 'unique': 93, 'among': 94, 'italian': 95, 'fashion': 96, 'houses': 97, 'due': 98, 'frequent': 99, 'use': 100, 'celebrity': 101, 'face': 102, 'house': 103, 'advertisements': 104, 'according': 105, 'henri': 106, 'zerner': 107, 'work': 108, 'has': 109, 'freedom': 110, 'immediacy': 111, 'have': 112, 'equivalent': 113, 'renaissance': 114, 'printmaking': 115, 'court': 116, 'hearings': 117, 'are': 118, 'open': 119, 'public': 120, 'after': 121, 'completing': 122, 'phd': 123, 'stayed': 124, 'on': 125, 'at': 126, 'berkeley': 127, 'teach': 128, 'year': 129, 'left': 130, 'was': 131, 'clear': 132, 'could': 133, 'not': 134, 'pursue': 135, 'vision': 136, 'there': 137}\n"
          ]
        },
        {
          "output_type": "display_data",
          "data": {
            "image/png": "[encoded data removed]",
            "text/plain": [
              "<Figure size 432x288 with 1 Axes>"
            ]
          },
          "metadata": {
            "needs_background": "light"
          }
        }
      ]
    },
    {
      "cell_type": "code",
      "source": [
        "plot_vectors(w2v_skip_gram.W1)"
      ],
      "metadata": {
        "colab": {
          "base_uri": "https://localhost:8080/",
          "height": 310
        },
        "id": "VoJWW94MihYq",
        "outputId": "b92d4a44-c7c6-4750-d971-4a6fdceea0e1"
      },
      "execution_count": 29,
      "outputs": [
        {
          "output_type": "stream",
          "name": "stdout",
          "text": [
            "{'the': 1, 'to': 2, 'in': 3, 'and': 4, 'a': 5, 'that': 6, 'of': 7, 's': 8, 'he': 9, 'is': 10, \"'\": 11, 'his': 12, 'had': 13, 'this': 14, 'gives': 15, 'some': 16, 'her': 17, 'called': 18, 'round': 19, 'were': 20, 'no': 21, 'when': 22, 'it': 23, 'its': 24, 'for': 25, 'showing': 26, 'even': 27, 'modern': 28, 'warfare': 29, 'dilapidated': 30, 'fortifications': 31, 'still': 32, 'defensive': 33, 'usefulness': 34, 'celtic': 35, 'finally': 36, 'cemented': 37, 'permanent': 38, 'home': 39, 'would': 40, 'see': 41, 'huge': 42, 'success': 43, 'present': 44, 'day': 45, 'shuji': 46, 'pills': 47, 'saying': 48, 'chise': 49, 'needs': 50, 'them': 51, 'so': 52, 'weapon': 53, 'side': 54, 'won': 55, '’': 56, 't': 57, 'take': 58, 'over': 59, 'later': 60, 'much': 61, 'needed': 62, 'maintenance': 63, 'areas': 64, 'where': 65, 'trio': 66, 'trail': 67, 'hand': 68, 'pakki': 69, 'pure': 70, 'more': 71, 'than': 72, 'police': 73, 'officers': 74, 'deployed': 75, 'but': 76, 'clashes': 77, 'reported': 78, 'candle': 79, 'lit': 80, 'vigil': 81, 'possible': 82, 'often': 83, 'follows': 84, 'edges': 85, 'various': 86, 'vegetation': 87, 'catch': 88, 'prey': 89, 'by': 90, 'surprise': 91, 'versace': 92, 'unique': 93, 'among': 94, 'italian': 95, 'fashion': 96, 'houses': 97, 'due': 98, 'frequent': 99, 'use': 100, 'celebrity': 101, 'face': 102, 'house': 103, 'advertisements': 104, 'according': 105, 'henri': 106, 'zerner': 107, 'work': 108, 'has': 109, 'freedom': 110, 'immediacy': 111, 'have': 112, 'equivalent': 113, 'renaissance': 114, 'printmaking': 115, 'court': 116, 'hearings': 117, 'are': 118, 'open': 119, 'public': 120, 'after': 121, 'completing': 122, 'phd': 123, 'stayed': 124, 'on': 125, 'at': 126, 'berkeley': 127, 'teach': 128, 'year': 129, 'left': 130, 'was': 131, 'clear': 132, 'could': 133, 'not': 134, 'pursue': 135, 'vision': 136, 'there': 137}\n"
          ]
        },
        {
          "output_type": "display_data",
          "data": {
            "image/png": "[encoded data removed]",
            "text/plain": [
              "<Figure size 432x288 with 1 Axes>"
            ]
          },
          "metadata": {
            "needs_background": "light"
          }
        }
      ]
    },
    {
      "cell_type": "markdown",
      "metadata": {
        "id": "zb1le_rOQVmi"
      },
      "source": [
        "# Previous Test ('Dhaka is the capital of Bangladesh. Delhi is the capital of India. Paris is the capital of France.')"
      ]
    },
    {
      "cell_type": "code",
      "metadata": {
        "id": "UGNsh5pn8inM"
      },
      "source": [
        "# print('CBOW Results:')\n",
        "# print('bangladesh - dhaka + france = ', w2v_cbow.check_subtract_prop('bangladesh', 'dhaka', 'paris'))\n",
        "# print('bangladesh - dhaka + france = ', w2v_cbow.check_subtract_prop('bangladesh', 'dhaka', 'delhi'))\n",
        "# print('bangladesh - dhaka + france = ', w2v_cbow.check_subtract_prop('paris', 'france', 'dhaka'))\n",
        "# print('bangladesh - dhaka + france = ', w2v_cbow.check_subtract_prop('france', 'paris', 'bangladesh'))\n",
        "# # print(w2v_cbow.W1)\n",
        "# print('dhaka -> ', w2v_cbow.word_with_closest_distance('dhaka'))\n",
        "# print('delhi -> ', w2v_cbow.word_with_closest_distance('delhi'))\n",
        "# print('paris -> ', w2v_cbow.word_with_closest_distance('paris'))\n",
        "# print('---------------------------------')\n",
        "\n",
        "# print('Skip Gram Results:')\n",
        "# print('bangladesh - dhaka + france = ', w2v_skip_gram.check_subtract_prop('bangladesh', 'dhaka', 'france'))\n",
        "# print('bangladesh - dhaka + paris = ', w2v_skip_gram.check_subtract_prop('bangladesh', 'dhaka', 'paris'))\n",
        "# print('bangladesh - dhaka + delhi = ', w2v_skip_gram.check_subtract_prop('bangladesh', 'dhaka', 'delhi'))\n",
        "# print('paris - france + dhaka = ', w2v_skip_gram.check_subtract_prop('paris', 'france', 'dhaka'))\n",
        "# print('france - paris + bangladesh = ', w2v_skip_gram.check_subtract_prop('france', 'paris', 'bangladesh'))\n",
        "# # print(w2v_cbow.W1)\n",
        "# print('dhaka -> ', w2v_skip_gram.word_with_closest_distance('dhaka'))\n",
        "# print('delhi -> ', w2v_skip_gram.word_with_closest_distance('delhi'))\n",
        "# print('paris -> ', w2v_skip_gram.word_with_closest_distance('paris'))\n",
        "# # print(w2v_skip_gram.W1)"
      ],
      "execution_count": 28,
      "outputs": []
    },
    {
      "cell_type": "code",
      "metadata": {
        "id": "WT9DQn2wXzMi"
      },
      "source": [
        ""
      ],
      "execution_count": 28,
      "outputs": []
    }
  ]
}